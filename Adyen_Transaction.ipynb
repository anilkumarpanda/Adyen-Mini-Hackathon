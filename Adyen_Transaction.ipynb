{
 "cells": [
  {
   "cell_type": "code",
   "execution_count": 19,
   "metadata": {
    "collapsed": true
   },
   "outputs": [],
   "source": [
    "import pandas as pd\n",
    "from sklearn import preprocessing\n",
    "import numpy as np\n",
    "from sklearn.metrics import accuracy_score\n",
    "from sklearn.ensemble import ExtraTreesClassifier, RandomForestClassifier\n",
    "from sklearn.model_selection import train_test_split\n",
    "from sklearn.pipeline import make_pipeline, make_union\n",
    "from tpot.builtins import StackingEstimator\n",
    "from tpot import TPOTClassifier\n",
    "from sklearn.datasets import load_iris\n",
    "from sklearn.model_selection import train_test_split\n",
    "from sklearn.metrics import roc_auc_score\n",
    "from scipy import interp\n",
    "import matplotlib.pyplot as plt\n",
    "from itertools import cycle\n",
    "from sklearn import svm, datasets\n",
    "from sklearn.metrics import roc_curve, auc\n",
    "from sklearn.model_selection import StratifiedKFold\n",
    "from sklearn.metrics import average_precision_score\n",
    "%matplotlib inline"
   ]
  },
  {
   "cell_type": "code",
   "execution_count": 4,
   "metadata": {},
   "outputs": [
    {
     "data": {
      "text/html": [
       "<div>\n",
       "<style>\n",
       "    .dataframe thead tr:only-child th {\n",
       "        text-align: right;\n",
       "    }\n",
       "\n",
       "    .dataframe thead th {\n",
       "        text-align: left;\n",
       "    }\n",
       "\n",
       "    .dataframe tbody tr th {\n",
       "        vertical-align: top;\n",
       "    }\n",
       "</style>\n",
       "<table border=\"1\" class=\"dataframe\">\n",
       "  <thead>\n",
       "    <tr style=\"text-align: right;\">\n",
       "      <th></th>\n",
       "      <th>txid</th>\n",
       "      <th>amount</th>\n",
       "      <th>shopper_country</th>\n",
       "      <th>issuer_country</th>\n",
       "      <th>sc_ic_same</th>\n",
       "      <th>shopper_email</th>\n",
       "      <th>creation_date</th>\n",
       "      <th>card_number_hash</th>\n",
       "      <th>time_diff_usage</th>\n",
       "      <th>card_person_used_before</th>\n",
       "      <th>txvariantcode</th>\n",
       "      <th>is_cc</th>\n",
       "      <th>bin</th>\n",
       "      <th>fraud</th>\n",
       "    </tr>\n",
       "  </thead>\n",
       "  <tbody>\n",
       "    <tr>\n",
       "      <th>0</th>\n",
       "      <td>27</td>\n",
       "      <td>19995</td>\n",
       "      <td>US</td>\n",
       "      <td>US</td>\n",
       "      <td>1</td>\n",
       "      <td>393760459@qq.com</td>\n",
       "      <td>3/14/2016 16:01</td>\n",
       "      <td>095f4r715f8765</td>\n",
       "      <td>999</td>\n",
       "      <td>0</td>\n",
       "      <td>mccredit</td>\n",
       "      <td>1</td>\n",
       "      <td>558764</td>\n",
       "      <td>0</td>\n",
       "    </tr>\n",
       "    <tr>\n",
       "      <th>1</th>\n",
       "      <td>8</td>\n",
       "      <td>1999</td>\n",
       "      <td>(unknown)</td>\n",
       "      <td>US</td>\n",
       "      <td>0</td>\n",
       "      <td>5931313455@qq.com</td>\n",
       "      <td>3/14/2016 15:25</td>\n",
       "      <td>0a6388ca9b96c</td>\n",
       "      <td>999</td>\n",
       "      <td>0</td>\n",
       "      <td>mccredit</td>\n",
       "      <td>1</td>\n",
       "      <td>558764</td>\n",
       "      <td>0</td>\n",
       "    </tr>\n",
       "    <tr>\n",
       "      <th>2</th>\n",
       "      <td>36</td>\n",
       "      <td>1999</td>\n",
       "      <td>US</td>\n",
       "      <td>US</td>\n",
       "      <td>1</td>\n",
       "      <td>hui.neng@yahoo.co.hk</td>\n",
       "      <td>3/14/2016 16:39</td>\n",
       "      <td>0eg0f95bc1738</td>\n",
       "      <td>999</td>\n",
       "      <td>0</td>\n",
       "      <td>visadebit</td>\n",
       "      <td>0</td>\n",
       "      <td>453245</td>\n",
       "      <td>0</td>\n",
       "    </tr>\n",
       "    <tr>\n",
       "      <th>3</th>\n",
       "      <td>33</td>\n",
       "      <td>1810</td>\n",
       "      <td>MX</td>\n",
       "      <td>MX</td>\n",
       "      <td>1</td>\n",
       "      <td>leah.doherty@yahoo.com</td>\n",
       "      <td>3/14/2016 16:35</td>\n",
       "      <td>18f832r5e585d</td>\n",
       "      <td>999</td>\n",
       "      <td>0</td>\n",
       "      <td>visagold</td>\n",
       "      <td>1</td>\n",
       "      <td>420567</td>\n",
       "      <td>0</td>\n",
       "    </tr>\n",
       "    <tr>\n",
       "      <th>4</th>\n",
       "      <td>10</td>\n",
       "      <td>3499</td>\n",
       "      <td>GB</td>\n",
       "      <td>GB</td>\n",
       "      <td>1</td>\n",
       "      <td>qm87945@cam.ac.uk</td>\n",
       "      <td>3/14/2016 15:27</td>\n",
       "      <td>21f53773f74df2</td>\n",
       "      <td>999</td>\n",
       "      <td>0</td>\n",
       "      <td>visadebit</td>\n",
       "      <td>0</td>\n",
       "      <td>434256</td>\n",
       "      <td>0</td>\n",
       "    </tr>\n",
       "  </tbody>\n",
       "</table>\n",
       "</div>"
      ],
      "text/plain": [
       "   txid  amount shopper_country issuer_country  sc_ic_same  \\\n",
       "0    27   19995              US             US           1   \n",
       "1     8    1999       (unknown)             US           0   \n",
       "2    36    1999              US             US           1   \n",
       "3    33    1810              MX             MX           1   \n",
       "4    10    3499              GB             GB           1   \n",
       "\n",
       "            shopper_email    creation_date card_number_hash  time_diff_usage  \\\n",
       "0        393760459@qq.com  3/14/2016 16:01   095f4r715f8765              999   \n",
       "1       5931313455@qq.com  3/14/2016 15:25    0a6388ca9b96c              999   \n",
       "2    hui.neng@yahoo.co.hk  3/14/2016 16:39    0eg0f95bc1738              999   \n",
       "3  leah.doherty@yahoo.com  3/14/2016 16:35    18f832r5e585d              999   \n",
       "4       qm87945@cam.ac.uk  3/14/2016 15:27   21f53773f74df2              999   \n",
       "\n",
       "   card_person_used_before txvariantcode  is_cc     bin  fraud  \n",
       "0                        0      mccredit      1  558764      0  \n",
       "1                        0      mccredit      1  558764      0  \n",
       "2                        0     visadebit      0  453245      0  \n",
       "3                        0      visagold      1  420567      0  \n",
       "4                        0     visadebit      0  434256      0  "
      ]
     },
     "execution_count": 4,
     "metadata": {},
     "output_type": "execute_result"
    }
   ],
   "source": [
    "data = pd.read_csv('input/training_set _processed.csv',header=0)\n",
    "data.head()"
   ]
  },
  {
   "cell_type": "code",
   "execution_count": 5,
   "metadata": {},
   "outputs": [
    {
     "data": {
      "text/plain": [
       "Index(['txid', 'amount', 'shopper_country', 'issuer_country', 'sc_ic_same',\n",
       "       'shopper_email', 'creation_date', 'card_number_hash', 'time_diff_usage',\n",
       "       'card_person_used_before', 'txvariantcode', 'is_cc', 'bin', 'fraud'],\n",
       "      dtype='object')"
      ]
     },
     "execution_count": 5,
     "metadata": {},
     "output_type": "execute_result"
    }
   ],
   "source": [
    "data.columns"
   ]
  },
  {
   "cell_type": "code",
   "execution_count": 6,
   "metadata": {
    "collapsed": true
   },
   "outputs": [],
   "source": [
    "X_train = data[['amount','sc_ic_same','shopper_country', 'issuer_country','time_diff_usage',\n",
    "              'card_person_used_before','is_cc', 'fraud']]"
   ]
  },
  {
   "cell_type": "code",
   "execution_count": 7,
   "metadata": {},
   "outputs": [
    {
     "data": {
      "text/html": [
       "<div>\n",
       "<style>\n",
       "    .dataframe thead tr:only-child th {\n",
       "        text-align: right;\n",
       "    }\n",
       "\n",
       "    .dataframe thead th {\n",
       "        text-align: left;\n",
       "    }\n",
       "\n",
       "    .dataframe tbody tr th {\n",
       "        vertical-align: top;\n",
       "    }\n",
       "</style>\n",
       "<table border=\"1\" class=\"dataframe\">\n",
       "  <thead>\n",
       "    <tr style=\"text-align: right;\">\n",
       "      <th></th>\n",
       "      <th>amount</th>\n",
       "      <th>sc_ic_same</th>\n",
       "      <th>shopper_country</th>\n",
       "      <th>issuer_country</th>\n",
       "      <th>time_diff_usage</th>\n",
       "      <th>card_person_used_before</th>\n",
       "      <th>is_cc</th>\n",
       "      <th>fraud</th>\n",
       "    </tr>\n",
       "  </thead>\n",
       "  <tbody>\n",
       "    <tr>\n",
       "      <th>0</th>\n",
       "      <td>19995</td>\n",
       "      <td>1</td>\n",
       "      <td>US</td>\n",
       "      <td>US</td>\n",
       "      <td>999</td>\n",
       "      <td>0</td>\n",
       "      <td>1</td>\n",
       "      <td>0</td>\n",
       "    </tr>\n",
       "    <tr>\n",
       "      <th>1</th>\n",
       "      <td>1999</td>\n",
       "      <td>0</td>\n",
       "      <td>(unknown)</td>\n",
       "      <td>US</td>\n",
       "      <td>999</td>\n",
       "      <td>0</td>\n",
       "      <td>1</td>\n",
       "      <td>0</td>\n",
       "    </tr>\n",
       "    <tr>\n",
       "      <th>2</th>\n",
       "      <td>1999</td>\n",
       "      <td>1</td>\n",
       "      <td>US</td>\n",
       "      <td>US</td>\n",
       "      <td>999</td>\n",
       "      <td>0</td>\n",
       "      <td>0</td>\n",
       "      <td>0</td>\n",
       "    </tr>\n",
       "    <tr>\n",
       "      <th>3</th>\n",
       "      <td>1810</td>\n",
       "      <td>1</td>\n",
       "      <td>MX</td>\n",
       "      <td>MX</td>\n",
       "      <td>999</td>\n",
       "      <td>0</td>\n",
       "      <td>1</td>\n",
       "      <td>0</td>\n",
       "    </tr>\n",
       "    <tr>\n",
       "      <th>4</th>\n",
       "      <td>3499</td>\n",
       "      <td>1</td>\n",
       "      <td>GB</td>\n",
       "      <td>GB</td>\n",
       "      <td>999</td>\n",
       "      <td>0</td>\n",
       "      <td>0</td>\n",
       "      <td>0</td>\n",
       "    </tr>\n",
       "  </tbody>\n",
       "</table>\n",
       "</div>"
      ],
      "text/plain": [
       "   amount  sc_ic_same shopper_country issuer_country  time_diff_usage  \\\n",
       "0   19995           1              US             US              999   \n",
       "1    1999           0       (unknown)             US              999   \n",
       "2    1999           1              US             US              999   \n",
       "3    1810           1              MX             MX              999   \n",
       "4    3499           1              GB             GB              999   \n",
       "\n",
       "   card_person_used_before  is_cc  fraud  \n",
       "0                        0      1      0  \n",
       "1                        0      1      0  \n",
       "2                        0      0      0  \n",
       "3                        0      1      0  \n",
       "4                        0      0      0  "
      ]
     },
     "execution_count": 7,
     "metadata": {},
     "output_type": "execute_result"
    }
   ],
   "source": [
    "X_train.head()"
   ]
  },
  {
   "cell_type": "code",
   "execution_count": 8,
   "metadata": {
    "collapsed": true
   },
   "outputs": [],
   "source": [
    "#Apply one hot encoder for categorical variables\n",
    "X_train_ohe = pd.get_dummies(X_train, columns=['shopper_country','issuer_country'])"
   ]
  },
  {
   "cell_type": "code",
   "execution_count": 9,
   "metadata": {},
   "outputs": [
    {
     "data": {
      "text/html": [
       "<div>\n",
       "<style>\n",
       "    .dataframe thead tr:only-child th {\n",
       "        text-align: right;\n",
       "    }\n",
       "\n",
       "    .dataframe thead th {\n",
       "        text-align: left;\n",
       "    }\n",
       "\n",
       "    .dataframe tbody tr th {\n",
       "        vertical-align: top;\n",
       "    }\n",
       "</style>\n",
       "<table border=\"1\" class=\"dataframe\">\n",
       "  <thead>\n",
       "    <tr style=\"text-align: right;\">\n",
       "      <th></th>\n",
       "      <th>amount</th>\n",
       "      <th>sc_ic_same</th>\n",
       "      <th>time_diff_usage</th>\n",
       "      <th>card_person_used_before</th>\n",
       "      <th>is_cc</th>\n",
       "      <th>fraud</th>\n",
       "      <th>shopper_country_(unknown)</th>\n",
       "      <th>shopper_country_CA</th>\n",
       "      <th>shopper_country_GB</th>\n",
       "      <th>shopper_country_MX</th>\n",
       "      <th>shopper_country_US</th>\n",
       "      <th>issuer_country_CA</th>\n",
       "      <th>issuer_country_GB</th>\n",
       "      <th>issuer_country_MX</th>\n",
       "      <th>issuer_country_US</th>\n",
       "    </tr>\n",
       "  </thead>\n",
       "  <tbody>\n",
       "    <tr>\n",
       "      <th>0</th>\n",
       "      <td>19995</td>\n",
       "      <td>1</td>\n",
       "      <td>999</td>\n",
       "      <td>0</td>\n",
       "      <td>1</td>\n",
       "      <td>0</td>\n",
       "      <td>0</td>\n",
       "      <td>0</td>\n",
       "      <td>0</td>\n",
       "      <td>0</td>\n",
       "      <td>1</td>\n",
       "      <td>0</td>\n",
       "      <td>0</td>\n",
       "      <td>0</td>\n",
       "      <td>1</td>\n",
       "    </tr>\n",
       "    <tr>\n",
       "      <th>1</th>\n",
       "      <td>1999</td>\n",
       "      <td>0</td>\n",
       "      <td>999</td>\n",
       "      <td>0</td>\n",
       "      <td>1</td>\n",
       "      <td>0</td>\n",
       "      <td>1</td>\n",
       "      <td>0</td>\n",
       "      <td>0</td>\n",
       "      <td>0</td>\n",
       "      <td>0</td>\n",
       "      <td>0</td>\n",
       "      <td>0</td>\n",
       "      <td>0</td>\n",
       "      <td>1</td>\n",
       "    </tr>\n",
       "    <tr>\n",
       "      <th>2</th>\n",
       "      <td>1999</td>\n",
       "      <td>1</td>\n",
       "      <td>999</td>\n",
       "      <td>0</td>\n",
       "      <td>0</td>\n",
       "      <td>0</td>\n",
       "      <td>0</td>\n",
       "      <td>0</td>\n",
       "      <td>0</td>\n",
       "      <td>0</td>\n",
       "      <td>1</td>\n",
       "      <td>0</td>\n",
       "      <td>0</td>\n",
       "      <td>0</td>\n",
       "      <td>1</td>\n",
       "    </tr>\n",
       "    <tr>\n",
       "      <th>3</th>\n",
       "      <td>1810</td>\n",
       "      <td>1</td>\n",
       "      <td>999</td>\n",
       "      <td>0</td>\n",
       "      <td>1</td>\n",
       "      <td>0</td>\n",
       "      <td>0</td>\n",
       "      <td>0</td>\n",
       "      <td>0</td>\n",
       "      <td>1</td>\n",
       "      <td>0</td>\n",
       "      <td>0</td>\n",
       "      <td>0</td>\n",
       "      <td>1</td>\n",
       "      <td>0</td>\n",
       "    </tr>\n",
       "    <tr>\n",
       "      <th>4</th>\n",
       "      <td>3499</td>\n",
       "      <td>1</td>\n",
       "      <td>999</td>\n",
       "      <td>0</td>\n",
       "      <td>0</td>\n",
       "      <td>0</td>\n",
       "      <td>0</td>\n",
       "      <td>0</td>\n",
       "      <td>1</td>\n",
       "      <td>0</td>\n",
       "      <td>0</td>\n",
       "      <td>0</td>\n",
       "      <td>1</td>\n",
       "      <td>0</td>\n",
       "      <td>0</td>\n",
       "    </tr>\n",
       "  </tbody>\n",
       "</table>\n",
       "</div>"
      ],
      "text/plain": [
       "   amount  sc_ic_same  time_diff_usage  card_person_used_before  is_cc  fraud  \\\n",
       "0   19995           1              999                        0      1      0   \n",
       "1    1999           0              999                        0      1      0   \n",
       "2    1999           1              999                        0      0      0   \n",
       "3    1810           1              999                        0      1      0   \n",
       "4    3499           1              999                        0      0      0   \n",
       "\n",
       "   shopper_country_(unknown)  shopper_country_CA  shopper_country_GB  \\\n",
       "0                          0                   0                   0   \n",
       "1                          1                   0                   0   \n",
       "2                          0                   0                   0   \n",
       "3                          0                   0                   0   \n",
       "4                          0                   0                   1   \n",
       "\n",
       "   shopper_country_MX  shopper_country_US  issuer_country_CA  \\\n",
       "0                   0                   1                  0   \n",
       "1                   0                   0                  0   \n",
       "2                   0                   1                  0   \n",
       "3                   1                   0                  0   \n",
       "4                   0                   0                  0   \n",
       "\n",
       "   issuer_country_GB  issuer_country_MX  issuer_country_US  \n",
       "0                  0                  0                  1  \n",
       "1                  0                  0                  1  \n",
       "2                  0                  0                  1  \n",
       "3                  0                  1                  0  \n",
       "4                  1                  0                  0  "
      ]
     },
     "execution_count": 9,
     "metadata": {},
     "output_type": "execute_result"
    }
   ],
   "source": [
    "X_train_ohe.head()"
   ]
  },
  {
   "cell_type": "code",
   "execution_count": 10,
   "metadata": {
    "collapsed": true
   },
   "outputs": [],
   "source": [
    "X = X_train_ohe.loc[:, X_train_ohe.columns != 'fraud']\n",
    "y = X_train_ohe['fraud']\n",
    "X_train, X_test, y_train, y_test = train_test_split(X, y, test_size=0.2, random_state=10)"
   ]
  },
  {
   "cell_type": "code",
   "execution_count": 11,
   "metadata": {},
   "outputs": [
    {
     "name": "stdout",
     "output_type": "stream",
     "text": [
      "Warning: xgboost.XGBClassifier is not available and will not be used by TPOT.\n"
     ]
    },
    {
     "name": "stderr",
     "output_type": "stream",
     "text": [
      "Optimization Progress:  18%|█▊        | 100/550 [00:32<02:13,  3.38pipeline/s]"
     ]
    },
    {
     "name": "stdout",
     "output_type": "stream",
     "text": [
      "Generation 1 - Current best internal CV score: 0.85\n"
     ]
    },
    {
     "name": "stderr",
     "output_type": "stream",
     "text": [
      "Optimization Progress:  27%|██▋       | 150/550 [01:02<02:07,  3.15pipeline/s]"
     ]
    },
    {
     "name": "stdout",
     "output_type": "stream",
     "text": [
      "Generation 2 - Current best internal CV score: 0.875\n"
     ]
    },
    {
     "name": "stderr",
     "output_type": "stream",
     "text": [
      "Optimization Progress:  36%|███▋      | 200/550 [01:16<01:40,  3.49pipeline/s]"
     ]
    },
    {
     "name": "stdout",
     "output_type": "stream",
     "text": [
      "Generation 3 - Current best internal CV score: 0.875\n"
     ]
    },
    {
     "name": "stderr",
     "output_type": "stream",
     "text": [
      "Optimization Progress:  45%|████▌     | 250/550 [01:34<01:44,  2.88pipeline/s]"
     ]
    },
    {
     "name": "stdout",
     "output_type": "stream",
     "text": [
      "Generation 4 - Current best internal CV score: 0.875\n"
     ]
    },
    {
     "name": "stderr",
     "output_type": "stream",
     "text": [
      "Optimization Progress:  55%|█████▍    | 300/550 [01:54<01:18,  3.17pipeline/s]"
     ]
    },
    {
     "name": "stdout",
     "output_type": "stream",
     "text": [
      "Generation 5 - Current best internal CV score: 0.875\n"
     ]
    },
    {
     "name": "stderr",
     "output_type": "stream",
     "text": [
      "Optimization Progress:  64%|██████▎   | 350/550 [02:18<01:10,  2.82pipeline/s]"
     ]
    },
    {
     "name": "stdout",
     "output_type": "stream",
     "text": [
      "Generation 6 - Current best internal CV score: 0.875\n"
     ]
    },
    {
     "name": "stderr",
     "output_type": "stream",
     "text": [
      "Optimization Progress:  73%|███████▎  | 400/550 [02:50<01:19,  1.89pipeline/s]"
     ]
    },
    {
     "name": "stdout",
     "output_type": "stream",
     "text": [
      "Generation 7 - Current best internal CV score: 0.875\n"
     ]
    },
    {
     "name": "stderr",
     "output_type": "stream",
     "text": [
      "Optimization Progress:  82%|████████▏ | 450/550 [03:27<00:47,  2.11pipeline/s]"
     ]
    },
    {
     "name": "stdout",
     "output_type": "stream",
     "text": [
      "Generation 8 - Current best internal CV score: 0.875\n"
     ]
    },
    {
     "name": "stderr",
     "output_type": "stream",
     "text": [
      "Optimization Progress:  91%|█████████ | 500/550 [04:05<00:28,  1.76pipeline/s]"
     ]
    },
    {
     "name": "stdout",
     "output_type": "stream",
     "text": [
      "Generation 9 - Current best internal CV score: 0.875\n"
     ]
    },
    {
     "name": "stderr",
     "output_type": "stream",
     "text": [
      "                                                                              \r"
     ]
    },
    {
     "name": "stdout",
     "output_type": "stream",
     "text": [
      "Generation 10 - Current best internal CV score: 0.875\n",
      "\n",
      "Best pipeline: RandomForestClassifier(ExtraTreesClassifier(input_matrix, bootstrap=False, criterion=entropy, max_features=0.9, min_samples_leaf=20, min_samples_split=12, n_estimators=100), bootstrap=True, criterion=entropy, max_features=0.25, min_samples_leaf=7, min_samples_split=16, n_estimators=100)\n",
      "0.9\n"
     ]
    },
    {
     "data": {
      "text/plain": [
       "True"
      ]
     },
     "execution_count": 11,
     "metadata": {},
     "output_type": "execute_result"
    }
   ],
   "source": [
    "tpot = TPOTClassifier(generations=10, population_size=50, verbosity=2,scoring='accuracy')\n",
    "tpot.fit(X_train, y_train)\n",
    "print(tpot.score(X_test, y_test))\n",
    "tpot.export('adyen_fraud.py')"
   ]
  },
  {
   "cell_type": "code",
   "execution_count": 20,
   "metadata": {},
   "outputs": [],
   "source": [
    "exported_pipeline = make_pipeline(\n",
    "    StackingEstimator(estimator=ExtraTreesClassifier(bootstrap=False, criterion=\"entropy\", max_features=0.9000000000000001, min_samples_leaf=20, min_samples_split=12, n_estimators=100)),\n",
    "    RandomForestClassifier(bootstrap=True, criterion=\"entropy\", max_features=0.25, min_samples_leaf=7, min_samples_split=16, n_estimators=100)\n",
    ")\n",
    "\n",
    "exported_pipeline.fit(X,y)\n",
    "results = exported_pipeline.predict(X)"
   ]
  },
  {
   "cell_type": "code",
   "execution_count": 21,
   "metadata": {},
   "outputs": [
    {
     "data": {
      "text/plain": [
       "0.81999999999999995"
      ]
     },
     "execution_count": 21,
     "metadata": {},
     "output_type": "execute_result"
    }
   ],
   "source": [
    "accuracy_score(y,results)"
   ]
  },
  {
   "cell_type": "code",
   "execution_count": 22,
   "metadata": {},
   "outputs": [
    {
     "data": {
      "text/plain": [
       "0.75183823529411764"
      ]
     },
     "execution_count": 22,
     "metadata": {},
     "output_type": "execute_result"
    }
   ],
   "source": [
    "#AUC_ROC\n",
    "roc_auc_score(y,results)"
   ]
  },
  {
   "cell_type": "code",
   "execution_count": 23,
   "metadata": {},
   "outputs": [
    {
     "data": {
      "text/plain": [
       "0.76034090909090923"
      ]
     },
     "execution_count": 23,
     "metadata": {},
     "output_type": "execute_result"
    }
   ],
   "source": [
    "average_precision_score(y,results) "
   ]
  },
  {
   "cell_type": "code",
   "execution_count": 24,
   "metadata": {
    "collapsed": true
   },
   "outputs": [],
   "source": [
    "false_positive_rate, true_positive_rate, thresholds = roc_curve(y, results)\n",
    "roc_auc = auc(false_positive_rate, true_positive_rate)"
   ]
  },
  {
   "cell_type": "code",
   "execution_count": 25,
   "metadata": {},
   "outputs": [
    {
     "data": {
      "image/png": "[encoded data removed]",
      "text/plain": [
       "<matplotlib.figure.Figure at 0x11b83b128>"
      ]
     },
     "metadata": {},
     "output_type": "display_data"
    }
   ],
   "source": [
    "plt.title('Receiver Operating Characteristic')\n",
    "plt.plot(false_positive_rate, true_positive_rate, 'b',\n",
    "label='AUC = %0.2f'% roc_auc)\n",
    "plt.legend(loc='lower right')\n",
    "plt.plot([0,1],[0,1],'r--')\n",
    "plt.xlim([-0.1,1.2])\n",
    "plt.ylim([-0.1,1.2])\n",
    "plt.ylabel('True Positive Rate')\n",
    "plt.xlabel('False Positive Rate')\n",
    "plt.show()"
   ]
  },
  {
   "cell_type": "code",
   "execution_count": null,
   "metadata": {
    "collapsed": true
   },
   "outputs": [],
   "source": []
  }
 ],
 "metadata": {
  "kernelspec": {
   "display_name": "Python 3",
   "language": "python",
   "name": "python3"
  },
  "language_info": {
   "codemirror_mode": {
    "name": "ipython",
    "version": 3
   },
   "file_extension": ".py",
   "mimetype": "text/x-python",
   "name": "python",
   "nbconvert_exporter": "python",
   "pygments_lexer": "ipython3",
   "version": "3.6.1"
  }
 },
 "nbformat": 4,
 "nbformat_minor": 2
}
